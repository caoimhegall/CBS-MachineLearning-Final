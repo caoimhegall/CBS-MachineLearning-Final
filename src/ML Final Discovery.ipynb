{
 "cells": [
  {
   "cell_type": "markdown",
   "metadata": {
    "id": "s2S9lqi2KKJB"
   },
   "source": [
    "###Final Project Discovery\n",
    "EDA for the Machine Learning Final Project"
   ]
  },
  {
   "cell_type": "code",
   "execution_count": 27,
   "metadata": {
    "executionInfo": {
     "elapsed": 10,
     "status": "ok",
     "timestamp": 1746903052431,
     "user": {
      "displayName": "Caoimhe G",
      "userId": "03319613593755301938"
     },
     "user_tz": -120
    },
    "id": "8oIXPq2xEyvt"
   },
   "outputs": [],
   "source": [
    "# Import Libraries\n",
    "import pandas as pd\n",
    "import numpy as np\n",
    "import re\n",
    "import seaborn as sns\n",
    "import matplotlib.pyplot as plt"
   ]
  },
  {
   "cell_type": "code",
   "execution_count": 28,
   "metadata": {
    "colab": {
     "base_uri": "https://localhost:8080/"
    },
    "executionInfo": {
     "elapsed": 1078,
     "status": "ok",
     "timestamp": 1746903053515,
     "user": {
      "displayName": "Caoimhe G",
      "userId": "03319613593755301938"
     },
     "user_tz": -120
    },
    "id": "691JhDZ_NI7r",
    "outputId": "425cf7ff-36dc-46b4-d1cb-c75508c65438"
   },
   "outputs": [
    {
     "name": "stdout",
     "output_type": "stream",
     "text": [
      "Drive already mounted at /content/drive; to attempt to forcibly remount, call drive.mount(\"/content/drive\", force_remount=True).\n"
     ]
    }
   ],
   "source": [
    "from google.colab import drive\n",
    "drive.mount('/content/drive')"
   ]
  },
  {
   "cell_type": "code",
   "execution_count": 29,
   "metadata": {
    "colab": {
     "base_uri": "https://localhost:8080/"
    },
    "executionInfo": {
     "elapsed": 4363,
     "status": "ok",
     "timestamp": 1746903057877,
     "user": {
      "displayName": "Caoimhe G",
      "userId": "03319613593755301938"
     },
     "user_tz": -120
    },
    "id": "R-mKA752NKc1",
    "outputId": "ebe1e017-87a0-4af7-c6f9-c5546294fe30"
   },
   "outputs": [
    {
     "name": "stderr",
     "output_type": "stream",
     "text": [
      "<ipython-input-29-b68284c083b9>:1: DtypeWarning: Columns (1) have mixed types. Specify dtype option on import or set low_memory=False.\n",
      "  df_raw = pd.read_csv('/content/drive/MyDrive/ML Final/Crash_Reporting_Drivers_Data.csv')\n"
     ]
    },
    {
     "name": "stdout",
     "output_type": "stream",
     "text": [
      "<class 'pandas.core.frame.DataFrame'>\n",
      "RangeIndex: 195092 entries, 0 to 195091\n",
      "Data columns (total 39 columns):\n",
      " #   Column                         Non-Null Count   Dtype  \n",
      "---  ------                         --------------   -----  \n",
      " 0   Report Number                  195092 non-null  object \n",
      " 1   Local Case Number              195092 non-null  object \n",
      " 2   Agency Name                    195092 non-null  object \n",
      " 3   ACRS Report Type               195092 non-null  object \n",
      " 4   Crash Date/Time                195092 non-null  object \n",
      " 5   Route Type                     176046 non-null  object \n",
      " 6   Road Name                      174120 non-null  object \n",
      " 7   Cross-Street Name              164696 non-null  object \n",
      " 8   Off-Road Description           18008 non-null   object \n",
      " 9   Municipality                   19126 non-null   object \n",
      " 10  Related Non-Motorist           6293 non-null    object \n",
      " 11  Collision Type                 194507 non-null  object \n",
      " 12  Weather                        181736 non-null  object \n",
      " 13  Surface Condition              172806 non-null  object \n",
      " 14  Light                          193647 non-null  object \n",
      " 15  Traffic Control                167593 non-null  object \n",
      " 16  Driver Substance Abuse         163772 non-null  object \n",
      " 17  Non-Motorist Substance Abuse   5147 non-null    object \n",
      " 18  Person ID                      195092 non-null  object \n",
      " 19  Driver At Fault                195092 non-null  object \n",
      " 20  Injury Severity                193641 non-null  object \n",
      " 21  Circumstance                   37190 non-null   object \n",
      " 22  Driver Distracted By           193525 non-null  object \n",
      " 23  Drivers License State          182560 non-null  object \n",
      " 24  Vehicle ID                     195092 non-null  object \n",
      " 25  Vehicle Damage Extent          194776 non-null  object \n",
      " 26  Vehicle First Impact Location  194936 non-null  object \n",
      " 27  Vehicle Body Type              192170 non-null  object \n",
      " 28  Vehicle Movement               193951 non-null  object \n",
      " 29  Vehicle Going Dir              188442 non-null  object \n",
      " 30  Speed Limit                    195092 non-null  int64  \n",
      " 31  Driverless Vehicle             195092 non-null  object \n",
      " 32  Parked Vehicle                 193565 non-null  object \n",
      " 33  Vehicle Year                   195092 non-null  int64  \n",
      " 34  Vehicle Make                   194449 non-null  object \n",
      " 35  Vehicle Model                  194407 non-null  object \n",
      " 36  Latitude                       195092 non-null  float64\n",
      " 37  Longitude                      195092 non-null  float64\n",
      " 38  Location                       195092 non-null  object \n",
      "dtypes: float64(2), int64(2), object(35)\n",
      "memory usage: 58.0+ MB\n"
     ]
    }
   ],
   "source": [
    "df_raw = pd.read_csv('/content/drive/MyDrive/ML Final/Crash_Reporting_Drivers_Data.csv')\n",
    "df_raw.info()"
   ]
  },
  {
   "cell_type": "code",
   "execution_count": 30,
   "metadata": {
    "colab": {
     "base_uri": "https://localhost:8080/",
     "height": 1000
    },
    "executionInfo": {
     "elapsed": 342,
     "status": "ok",
     "timestamp": 1746903058221,
     "user": {
      "displayName": "Caoimhe G",
      "userId": "03319613593755301938"
     },
     "user_tz": -120
    },
    "id": "aV2XIuoSU7Nu",
    "outputId": "f232596a-c469-42f6-85be-58fad22afeff"
   },
   "outputs": [
    {
     "data": {
      "text/html": [
       "<div>\n",
       "<style scoped>\n",
       "    .dataframe tbody tr th:only-of-type {\n",
       "        vertical-align: middle;\n",
       "    }\n",
       "\n",
       "    .dataframe tbody tr th {\n",
       "        vertical-align: top;\n",
       "    }\n",
       "\n",
       "    .dataframe thead th {\n",
       "        text-align: right;\n",
       "    }\n",
       "</style>\n",
       "<table border=\"1\" class=\"dataframe\">\n",
       "  <thead>\n",
       "    <tr style=\"text-align: right;\">\n",
       "      <th></th>\n",
       "      <th>0</th>\n",
       "    </tr>\n",
       "  </thead>\n",
       "  <tbody>\n",
       "    <tr>\n",
       "      <th>Report Number</th>\n",
       "      <td>0.000000</td>\n",
       "    </tr>\n",
       "    <tr>\n",
       "      <th>Local Case Number</th>\n",
       "      <td>0.000000</td>\n",
       "    </tr>\n",
       "    <tr>\n",
       "      <th>Agency Name</th>\n",
       "      <td>0.000000</td>\n",
       "    </tr>\n",
       "    <tr>\n",
       "      <th>ACRS Report Type</th>\n",
       "      <td>0.000000</td>\n",
       "    </tr>\n",
       "    <tr>\n",
       "      <th>Crash Date/Time</th>\n",
       "      <td>0.000000</td>\n",
       "    </tr>\n",
       "    <tr>\n",
       "      <th>Route Type</th>\n",
       "      <td>9.762574</td>\n",
       "    </tr>\n",
       "    <tr>\n",
       "      <th>Road Name</th>\n",
       "      <td>10.749800</td>\n",
       "    </tr>\n",
       "    <tr>\n",
       "      <th>Cross-Street Name</th>\n",
       "      <td>15.580342</td>\n",
       "    </tr>\n",
       "    <tr>\n",
       "      <th>Off-Road Description</th>\n",
       "      <td>90.769483</td>\n",
       "    </tr>\n",
       "    <tr>\n",
       "      <th>Municipality</th>\n",
       "      <td>90.196420</td>\n",
       "    </tr>\n",
       "    <tr>\n",
       "      <th>Related Non-Motorist</th>\n",
       "      <td>96.774342</td>\n",
       "    </tr>\n",
       "    <tr>\n",
       "      <th>Collision Type</th>\n",
       "      <td>0.299859</td>\n",
       "    </tr>\n",
       "    <tr>\n",
       "      <th>Weather</th>\n",
       "      <td>6.846001</td>\n",
       "    </tr>\n",
       "    <tr>\n",
       "      <th>Surface Condition</th>\n",
       "      <td>11.423328</td>\n",
       "    </tr>\n",
       "    <tr>\n",
       "      <th>Light</th>\n",
       "      <td>0.740676</td>\n",
       "    </tr>\n",
       "    <tr>\n",
       "      <th>Traffic Control</th>\n",
       "      <td>14.095401</td>\n",
       "    </tr>\n",
       "    <tr>\n",
       "      <th>Driver Substance Abuse</th>\n",
       "      <td>16.053964</td>\n",
       "    </tr>\n",
       "    <tr>\n",
       "      <th>Non-Motorist Substance Abuse</th>\n",
       "      <td>97.361758</td>\n",
       "    </tr>\n",
       "    <tr>\n",
       "      <th>Person ID</th>\n",
       "      <td>0.000000</td>\n",
       "    </tr>\n",
       "    <tr>\n",
       "      <th>Driver At Fault</th>\n",
       "      <td>0.000000</td>\n",
       "    </tr>\n",
       "    <tr>\n",
       "      <th>Injury Severity</th>\n",
       "      <td>0.743752</td>\n",
       "    </tr>\n",
       "    <tr>\n",
       "      <th>Circumstance</th>\n",
       "      <td>80.937199</td>\n",
       "    </tr>\n",
       "    <tr>\n",
       "      <th>Driver Distracted By</th>\n",
       "      <td>0.803211</td>\n",
       "    </tr>\n",
       "    <tr>\n",
       "      <th>Drivers License State</th>\n",
       "      <td>6.423636</td>\n",
       "    </tr>\n",
       "    <tr>\n",
       "      <th>Vehicle ID</th>\n",
       "      <td>0.000000</td>\n",
       "    </tr>\n",
       "    <tr>\n",
       "      <th>Vehicle Damage Extent</th>\n",
       "      <td>0.161975</td>\n",
       "    </tr>\n",
       "    <tr>\n",
       "      <th>Vehicle First Impact Location</th>\n",
       "      <td>0.079962</td>\n",
       "    </tr>\n",
       "    <tr>\n",
       "      <th>Vehicle Body Type</th>\n",
       "      <td>1.497755</td>\n",
       "    </tr>\n",
       "    <tr>\n",
       "      <th>Vehicle Movement</th>\n",
       "      <td>0.584852</td>\n",
       "    </tr>\n",
       "    <tr>\n",
       "      <th>Vehicle Going Dir</th>\n",
       "      <td>3.408648</td>\n",
       "    </tr>\n",
       "    <tr>\n",
       "      <th>Speed Limit</th>\n",
       "      <td>0.000000</td>\n",
       "    </tr>\n",
       "    <tr>\n",
       "      <th>Driverless Vehicle</th>\n",
       "      <td>0.000000</td>\n",
       "    </tr>\n",
       "    <tr>\n",
       "      <th>Parked Vehicle</th>\n",
       "      <td>0.782708</td>\n",
       "    </tr>\n",
       "    <tr>\n",
       "      <th>Vehicle Year</th>\n",
       "      <td>0.000000</td>\n",
       "    </tr>\n",
       "    <tr>\n",
       "      <th>Vehicle Make</th>\n",
       "      <td>0.329588</td>\n",
       "    </tr>\n",
       "    <tr>\n",
       "      <th>Vehicle Model</th>\n",
       "      <td>0.351116</td>\n",
       "    </tr>\n",
       "    <tr>\n",
       "      <th>Latitude</th>\n",
       "      <td>0.000000</td>\n",
       "    </tr>\n",
       "    <tr>\n",
       "      <th>Longitude</th>\n",
       "      <td>0.000000</td>\n",
       "    </tr>\n",
       "    <tr>\n",
       "      <th>Location</th>\n",
       "      <td>0.000000</td>\n",
       "    </tr>\n",
       "  </tbody>\n",
       "</table>\n",
       "</div><br><label><b>dtype:</b> float64</label>"
      ],
      "text/plain": [
       "Report Number                     0.000000\n",
       "Local Case Number                 0.000000\n",
       "Agency Name                       0.000000\n",
       "ACRS Report Type                  0.000000\n",
       "Crash Date/Time                   0.000000\n",
       "Route Type                        9.762574\n",
       "Road Name                        10.749800\n",
       "Cross-Street Name                15.580342\n",
       "Off-Road Description             90.769483\n",
       "Municipality                     90.196420\n",
       "Related Non-Motorist             96.774342\n",
       "Collision Type                    0.299859\n",
       "Weather                           6.846001\n",
       "Surface Condition                11.423328\n",
       "Light                             0.740676\n",
       "Traffic Control                  14.095401\n",
       "Driver Substance Abuse           16.053964\n",
       "Non-Motorist Substance Abuse     97.361758\n",
       "Person ID                         0.000000\n",
       "Driver At Fault                   0.000000\n",
       "Injury Severity                   0.743752\n",
       "Circumstance                     80.937199\n",
       "Driver Distracted By              0.803211\n",
       "Drivers License State             6.423636\n",
       "Vehicle ID                        0.000000\n",
       "Vehicle Damage Extent             0.161975\n",
       "Vehicle First Impact Location     0.079962\n",
       "Vehicle Body Type                 1.497755\n",
       "Vehicle Movement                  0.584852\n",
       "Vehicle Going Dir                 3.408648\n",
       "Speed Limit                       0.000000\n",
       "Driverless Vehicle                0.000000\n",
       "Parked Vehicle                    0.782708\n",
       "Vehicle Year                      0.000000\n",
       "Vehicle Make                      0.329588\n",
       "Vehicle Model                     0.351116\n",
       "Latitude                          0.000000\n",
       "Longitude                         0.000000\n",
       "Location                          0.000000\n",
       "dtype: float64"
      ]
     },
     "execution_count": 30,
     "metadata": {},
     "output_type": "execute_result"
    }
   ],
   "source": [
    "# find percentage of missing values for each column\n",
    "missing_percentage = df_raw.isnull().sum() * 100 / len(df_raw)\n",
    "missing_percentage"
   ]
  },
  {
   "cell_type": "markdown",
   "metadata": {
    "id": "T1eegC1pl6qZ"
   },
   "source": [
    "Dropping non-important features, and replacing NA values with what makes most sense"
   ]
  },
  {
   "cell_type": "code",
   "execution_count": 31,
   "metadata": {
    "colab": {
     "base_uri": "https://localhost:8080/"
    },
    "executionInfo": {
     "elapsed": 496,
     "status": "ok",
     "timestamp": 1746903058718,
     "user": {
      "displayName": "Caoimhe G",
      "userId": "03319613593755301938"
     },
     "user_tz": -120
    },
    "id": "WAwuBC95tl3Y",
    "outputId": "2818c9da-dc4e-43af-c11c-e84e92fa1977"
   },
   "outputs": [
    {
     "name": "stdout",
     "output_type": "stream",
     "text": [
      "<class 'pandas.core.frame.DataFrame'>\n",
      "Index: 190987 entries, 0 to 195091\n",
      "Data columns (total 16 columns):\n",
      " #   Column                  Non-Null Count   Dtype  \n",
      "---  ------                  --------------   -----  \n",
      " 0   ACRS Report Type        190987 non-null  object \n",
      " 1   Crash Date/Time         190987 non-null  object \n",
      " 2   Collision Type          190987 non-null  object \n",
      " 3   Weather                 190987 non-null  object \n",
      " 4   Surface Condition       190987 non-null  object \n",
      " 5   Light                   190987 non-null  object \n",
      " 6   Driver Substance Abuse  190987 non-null  object \n",
      " 7   Injury Severity         190987 non-null  object \n",
      " 8   Driver Distracted By    190987 non-null  object \n",
      " 9   Vehicle Damage Extent   190987 non-null  object \n",
      " 10  Vehicle Body Type       190987 non-null  object \n",
      " 11  Speed Limit             190987 non-null  int64  \n",
      " 12  Vehicle Year            190987 non-null  int64  \n",
      " 13  Vehicle Make            190987 non-null  object \n",
      " 14  Latitude                190987 non-null  float64\n",
      " 15  Longitude               190987 non-null  float64\n",
      "dtypes: float64(2), int64(2), object(12)\n",
      "memory usage: 24.8+ MB\n"
     ]
    }
   ],
   "source": [
    "df_copy = df_raw.copy()\n",
    "df_copy.drop(['Local Case Number', 'Report Number', 'Road Name', 'Traffic Control', 'Cross-Street Name', 'Off-Road Description',\n",
    "              'Related Non-Motorist', 'Municipality', 'Non-Motorist Substance Abuse', 'Vehicle First Impact Location', 'Person ID',\n",
    "              'Circumstance', 'Drivers License State', 'Vehicle ID', 'Parked Vehicle', 'Driverless Vehicle', 'Location', 'Driver At Fault',\n",
    "              'Vehicle Going Dir', 'Route Type', 'Agency Name', 'Vehicle Model', 'Vehicle Movement' ], axis=1, inplace=True, errors='ignore')\n",
    "\n",
    "\n",
    "# Default values\n",
    "df_copy['Weather'] = df_copy['Weather'].fillna('CLEAR')\n",
    "df_copy['Surface Condition'] = df_copy['Surface Condition'].fillna('DRY')\n",
    "df_copy['Light'] = df_copy['Light'].fillna('DAYLIGHT')\n",
    "df_copy['Driver Substance Abuse'] = df_copy['Driver Substance Abuse'].fillna('NONE DETECTED')\n",
    "df_copy['Injury Severity'] = df_copy['Injury Severity'].fillna('NO APPARENT INJURY')\n",
    "df_copy['Driver Distracted By'] = df_copy['Driver Distracted By'].fillna('UNKNOWN')\n",
    "\n",
    "# Drop missing values since we have so many rows anyways\n",
    "df_copy.dropna(inplace=True)\n",
    "df_copy.info()"
   ]
  },
  {
   "cell_type": "markdown",
   "metadata": {
    "id": "8Qd1QAhYl6qa"
   },
   "source": [
    "So we decide to keep 16 features. Now the next step would be to prepare the features the best way possible, to retain the most valuable information"
   ]
  },
  {
   "cell_type": "markdown",
   "metadata": {
    "id": "vEDvdw5Xl6qa"
   },
   "source": [
    "1.1 ACRS Report Type"
   ]
  },
  {
   "cell_type": "code",
   "execution_count": 32,
   "metadata": {
    "colab": {
     "base_uri": "https://localhost:8080/"
    },
    "executionInfo": {
     "elapsed": 20,
     "status": "ok",
     "timestamp": 1746903058739,
     "user": {
      "displayName": "Caoimhe G",
      "userId": "03319613593755301938"
     },
     "user_tz": -120
    },
    "id": "H37yde_zl6qb",
    "outputId": "14fc91fa-a94b-4247-8171-3c060a30d0f9"
   },
   "outputs": [
    {
     "data": {
      "text/plain": [
       "array(['Property Damage Crash', 'Injury Crash', 'Fatal Crash'],\n",
       "      dtype=object)"
      ]
     },
     "execution_count": 32,
     "metadata": {},
     "output_type": "execute_result"
    }
   ],
   "source": [
    "# ACRS Report Type\n",
    "df_copy['ACRS Report Type'].unique()\n"
   ]
  },
  {
   "cell_type": "markdown",
   "metadata": {
    "id": "wuV7yKPll6qb"
   },
   "source": [
    "1.2 Crash Date/Time"
   ]
  },
  {
   "cell_type": "code",
   "execution_count": 33,
   "metadata": {
    "executionInfo": {
     "elapsed": 772,
     "status": "ok",
     "timestamp": 1746903059519,
     "user": {
      "displayName": "Caoimhe G",
      "userId": "03319613593755301938"
     },
     "user_tz": -120
    },
    "id": "HxKtHN0rl6qb"
   },
   "outputs": [],
   "source": [
    "# Convert 'Crash Date/Time' to datetime\n",
    "df_copy['Crash Date/Time'] = pd.to_datetime(df_copy['Crash Date/Time'], format='%m/%d/%Y %I:%M:%S %p')"
   ]
  },
  {
   "cell_type": "markdown",
   "metadata": {
    "id": "XmsrV1WUl6qb"
   },
   "source": [
    "1.3 Collision Type"
   ]
  },
  {
   "cell_type": "code",
   "execution_count": 34,
   "metadata": {
    "colab": {
     "base_uri": "https://localhost:8080/"
    },
    "executionInfo": {
     "elapsed": 268,
     "status": "ok",
     "timestamp": 1746903059792,
     "user": {
      "displayName": "Caoimhe G",
      "userId": "03319613593755301938"
     },
     "user_tz": -120
    },
    "id": "abm-zxjJl6qb",
    "outputId": "6a54fa8b-b656-4a84-c88d-0fac1f1e44f6"
   },
   "outputs": [
    {
     "data": {
      "text/plain": [
       "array(['UNKNOWN', 'SINGLE VEHICLE', 'STRAIGHT MOVEMENT ANGLE',\n",
       "       'FRONT TO REAR', 'HEAD ON LEFT TURN', 'SAME DIRECTION SIDE',\n",
       "       'OPPOSITE DIRECTION SIDE', 'SAME DIRECTION TURN',\n",
       "       'ANGLE MEETS TURN', 'FRONT TO FRONT', 'SAME DIR REND TURN',\n",
       "       'OPPOSITE DIR BOTH LEFT TURN', 'SAME DIR BOTH LEFT TURN',\n",
       "       'ANGLE MEETS LEFT HEAD ON', 'ANGLE', 'REAR TO SIDE',\n",
       "       'REAR TO REAR'], dtype=object)"
      ]
     },
     "execution_count": 34,
     "metadata": {},
     "output_type": "execute_result"
    }
   ],
   "source": [
    "\n",
    "df_copy['Collision Type'] = df_copy['Collision Type'].str.upper()\n",
    "\n",
    "df_copy['Collision Type'] = df_copy['Collision Type'].replace({\n",
    "    'HEAD ON': 'FRONT TO FRONT',\n",
    "    'SAME DIR REAR END': 'FRONT TO REAR',\n",
    "    'OTHER': 'UNKNOWN',\n",
    "    'SAME DIR REND LEFT TURN': 'SAME DIR REND TURN',\n",
    "    'SAME DIR REND RIGHT TURN': 'SAME DIR REND TURN',\n",
    "    'ANGLE MEETS LEFT TURN': 'ANGLE MEETS TURN',\n",
    "    'ANGLE MEETS RIGHT TURN': 'ANGLE MEETS TURN',\n",
    "    'SAME DIRECTION RIGHT TURN': 'SAME DIRECTION TURN',\n",
    "    'SAME DIRECTION LEFT TURN': 'SAME DIRECTION TURN',\n",
    "    'OPPOSITE DIRECTION SIDESWIPE': 'OPPOSITE DIRECTION SIDE',\n",
    "    'SIDESWIPE, OPPOSITE DIRECTION': 'OPPOSITE DIRECTION SIDE',\n",
    "    'SAME DIRECTION SIDESWIPE': 'SAME DIRECTION SIDE',\n",
    "    'SIDESWIPE, SAME DIRECTION': 'SAME DIRECTION SIDE',\n",
    "})\n",
    "\n",
    "\n",
    "df_copy['Collision Type'].unique()\n",
    "\n",
    "#Now we can use one hot encoding on the Collision Type column"
   ]
  },
  {
   "cell_type": "markdown",
   "metadata": {
    "id": "iiWt3sY_l6qc"
   },
   "source": [
    "1.4 Weather"
   ]
  },
  {
   "cell_type": "code",
   "execution_count": 35,
   "metadata": {
    "colab": {
     "base_uri": "https://localhost:8080/"
    },
    "executionInfo": {
     "elapsed": 225,
     "status": "ok",
     "timestamp": 1746903060032,
     "user": {
      "displayName": "Caoimhe G",
      "userId": "03319613593755301938"
     },
     "user_tz": -120
    },
    "id": "hh-wx_4sl6qc",
    "outputId": "d04efb78-a527-4116-f9b2-be92f76e075d"
   },
   "outputs": [
    {
     "data": {
      "text/plain": [
       "array(['CLEAR', 'CLOUDY', 'RAIN', 'WINTER WEATHER', 'FOG, SMOG, SMOKE',\n",
       "       'OTHER', 'WINDS'], dtype=object)"
      ]
     },
     "execution_count": 35,
     "metadata": {},
     "output_type": "execute_result"
    }
   ],
   "source": [
    "df_copy['Weather'] = df_copy['Weather'].str.upper()\n",
    "\n",
    "df_copy['Weather'] = df_copy['Weather'].replace({\n",
    "    'WINTRY MIX': 'WINTER WEATHER',\n",
    "    'BLOWING SNOW': 'WINTER WEATHER',\n",
    "    'SNOW': 'WINTER WEATHER',\n",
    "    'SLEET': 'WINTER WEATHER',\n",
    "    'SEVERE WINDS' : 'WINDS',\n",
    "    'SEVERE CROSSWINDS': 'WINDS',\n",
    "    'FREEZING RAIN OR FREEZING DRIZZLE': 'WINTER WEATHER',\n",
    "    'SLEET OR HAIL': 'WINTER WEATHER',\n",
    "    'UNKNOWN': 'OTHER',\n",
    "    'RAINING': 'RAIN',\n",
    "    'FOGGY': 'FOG, SMOG, SMOKE',\n",
    "    'BLOWING SAND, SOIL, DIRT': 'FOG, SMOG, SMOKE',\n",
    "})\n",
    "\n",
    "df_copy['Weather'].unique()\n",
    "\n",
    "# Use one hot encoding on Weather\n"
   ]
  },
  {
   "cell_type": "markdown",
   "metadata": {
    "id": "ZNMk2_B8l6qc"
   },
   "source": [
    "1.5 Surface Condition"
   ]
  },
  {
   "cell_type": "code",
   "execution_count": 36,
   "metadata": {
    "colab": {
     "base_uri": "https://localhost:8080/",
     "height": 240
    },
    "executionInfo": {
     "elapsed": 288,
     "status": "ok",
     "timestamp": 1746903060323,
     "user": {
      "displayName": "Caoimhe G",
      "userId": "03319613593755301938"
     },
     "user_tz": -120
    },
    "id": "F8W3S_LqtUL2",
    "outputId": "78c2cc11-470f-433d-b567-b31966c7bd75"
   },
   "outputs": [
    {
     "data": {
      "text/html": [
       "<div>\n",
       "<style scoped>\n",
       "    .dataframe tbody tr th:only-of-type {\n",
       "        vertical-align: middle;\n",
       "    }\n",
       "\n",
       "    .dataframe tbody tr th {\n",
       "        vertical-align: top;\n",
       "    }\n",
       "\n",
       "    .dataframe thead th {\n",
       "        text-align: right;\n",
       "    }\n",
       "</style>\n",
       "<table border=\"1\" class=\"dataframe\">\n",
       "  <thead>\n",
       "    <tr style=\"text-align: right;\">\n",
       "      <th></th>\n",
       "      <th>count</th>\n",
       "    </tr>\n",
       "    <tr>\n",
       "      <th>Surface Condition</th>\n",
       "      <th></th>\n",
       "    </tr>\n",
       "  </thead>\n",
       "  <tbody>\n",
       "    <tr>\n",
       "      <th>DRY</th>\n",
       "      <td>156408</td>\n",
       "    </tr>\n",
       "    <tr>\n",
       "      <th>WET</th>\n",
       "      <td>31263</td>\n",
       "    </tr>\n",
       "    <tr>\n",
       "      <th>SNOW</th>\n",
       "      <td>2583</td>\n",
       "    </tr>\n",
       "    <tr>\n",
       "      <th>OTHER</th>\n",
       "      <td>733</td>\n",
       "    </tr>\n",
       "  </tbody>\n",
       "</table>\n",
       "</div><br><label><b>dtype:</b> int64</label>"
      ],
      "text/plain": [
       "Surface Condition\n",
       "DRY      156408\n",
       "WET       31263\n",
       "SNOW       2583\n",
       "OTHER       733\n",
       "Name: count, dtype: int64"
      ]
     },
     "execution_count": 36,
     "metadata": {},
     "output_type": "execute_result"
    }
   ],
   "source": [
    "df_copy['Surface Condition'] = df_copy['Surface Condition'].str.upper()\n",
    "\n",
    "df_copy['Surface Condition'] = df_copy['Surface Condition'].replace({\n",
    "    'ICE': 'SNOW',\n",
    "    'SLUSH': 'SNOW',\n",
    "    'SNOW' : 'SNOW',\n",
    "    'ICE/FROST': 'SNOW',\n",
    "    'MUD, DIRT, GRAVEL': 'OTHER',\n",
    "    'SAND': 'OTHER',\n",
    "    'WATER(STANDING/MOVING)': 'WET',\n",
    "    'WATER (STANDING, MOVING)': 'WET',\n",
    "    'UNKNOWN': 'OTHER',\n",
    "    'OIL': 'OTHER',\n",
    "    'DIRT': 'OTHER',\n",
    "})\n",
    "df_copy['Surface Condition'].unique()\n",
    "df_copy['Surface Condition'].value_counts()\n",
    "\n",
    "# Use one hot encoding on Surface Condition\n",
    "\n"
   ]
  },
  {
   "cell_type": "markdown",
   "metadata": {
    "id": "oMCu4LvZl6qc"
   },
   "source": [
    "1.6 Light"
   ]
  },
  {
   "cell_type": "code",
   "execution_count": 37,
   "metadata": {
    "colab": {
     "base_uri": "https://localhost:8080/"
    },
    "executionInfo": {
     "elapsed": 81,
     "status": "ok",
     "timestamp": 1746903060423,
     "user": {
      "displayName": "Caoimhe G",
      "userId": "03319613593755301938"
     },
     "user_tz": -120
    },
    "id": "cntJp5h4l6qc",
    "outputId": "6f39caca-5393-4cc3-b65c-2d55f52d70dd"
   },
   "outputs": [
    {
     "data": {
      "text/plain": [
       "array(['Evening', 'Afternoon', 'Morning', 'Night'], dtype=object)"
      ]
     },
     "execution_count": 37,
     "metadata": {},
     "output_type": "execute_result"
    }
   ],
   "source": [
    "# Ensure datetime format\n",
    "df_copy['Crash Date/Time'] = pd.to_datetime(df_copy['Crash Date/Time'], format='%m/%d/%Y %I:%M:%S %p')\n",
    "\n",
    "# Extract hour\n",
    "df_copy['Crash Hour'] = df_copy['Crash Date/Time'].dt.hour\n",
    "\n",
    "\n",
    "def time_period(hour):\n",
    "    if 5 <= hour < 12:\n",
    "        return 'Morning'\n",
    "    elif 12 <= hour < 17:\n",
    "        return 'Afternoon'\n",
    "    elif 17 <= hour < 21:\n",
    "        return 'Evening'\n",
    "    else:\n",
    "        return 'Night'\n",
    "\n",
    "df_copy['Light'] = df_copy['Crash Hour'].apply(time_period)\n",
    "\n",
    "\n",
    "df_copy['Light'].unique()\n",
    "\n",
    "# Use one hot encoding on Light"
   ]
  },
  {
   "cell_type": "markdown",
   "metadata": {
    "id": "uSCj14IZl6qd"
   },
   "source": [
    "1.7 Driver Substance Abuse"
   ]
  },
  {
   "cell_type": "code",
   "execution_count": 38,
   "metadata": {
    "colab": {
     "base_uri": "https://localhost:8080/"
    },
    "executionInfo": {
     "elapsed": 120,
     "status": "ok",
     "timestamp": 1746903060568,
     "user": {
      "displayName": "Caoimhe G",
      "userId": "03319613593755301938"
     },
     "user_tz": -120
    },
    "id": "K5vJ2UEUl6qd",
    "outputId": "9d89a144-c023-42b9-f0a0-d3345efc9c66"
   },
   "outputs": [
    {
     "data": {
      "text/plain": [
       "array(['NONE DETECTED', 'SUBSTANCE DETECTED'], dtype=object)"
      ]
     },
     "execution_count": 38,
     "metadata": {},
     "output_type": "execute_result"
    }
   ],
   "source": [
    "df_copy['Driver Substance Abuse'] = df_copy['Driver Substance Abuse'].str.upper()\n",
    "\n",
    "def replace_substance(value):\n",
    "    value_lower = value.lower()\n",
    "    if 'none' in value_lower or 'unknown' in value_lower or 'not' in value_lower or 'other' in value_lower:\n",
    "        return 'NONE DETECTED'\n",
    "    if 'alcohol' in value_lower:\n",
    "        return 'SUBSTANCE DETECTED'\n",
    "    if 'drug' in value_lower or 'medication' in value_lower:\n",
    "        return 'SUBSTANCE DETECTED'\n",
    "    if 'combin' in value_lower:\n",
    "        return 'SUBSTANCE DETECTED'\n",
    "    else:\n",
    "        return 'NONE DETECTED'\n",
    "\n",
    "df_copy['Driver Substance Abuse'] = df_copy['Driver Substance Abuse'].apply(replace_substance)\n",
    "df_copy['Driver Substance Abuse'].unique()"
   ]
  },
  {
   "cell_type": "markdown",
   "metadata": {
    "id": "4KkYIBhgl6qd"
   },
   "source": [
    "1.8 Injury Severity\n",
    "\n",
    "We skip this one to the end, since it is the label we wanna predict"
   ]
  },
  {
   "cell_type": "markdown",
   "metadata": {
    "id": "8WjvU-ddl6qd"
   },
   "source": [
    "1.9 Driver Distracted By"
   ]
  },
  {
   "cell_type": "code",
   "execution_count": 39,
   "metadata": {
    "colab": {
     "base_uri": "https://localhost:8080/"
    },
    "executionInfo": {
     "elapsed": 357,
     "status": "ok",
     "timestamp": 1746903060926,
     "user": {
      "displayName": "Caoimhe G",
      "userId": "03319613593755301938"
     },
     "user_tz": -120
    },
    "id": "UjHHj6L_l6qd",
    "outputId": "893fc363-2247-47a7-e197-18b0518f654d"
   },
   "outputs": [
    {
     "data": {
      "text/plain": [
       "array(['UNKNOWN', 'NOT DISTRACTED', 'OTHER DISTRACTION', 'ELECTRONICS'],\n",
       "      dtype=object)"
      ]
     },
     "execution_count": 39,
     "metadata": {},
     "output_type": "execute_result"
    }
   ],
   "source": [
    "df_copy['Driver Distracted By'] = df_copy['Driver Distracted By'].str.upper()\n",
    "\n",
    "df_copy['Driver Distracted By'] = df_copy['Driver Distracted By'].replace({\n",
    "    'LOOKED BUT DID NOT SEE': 'OTHER DISTRACTION',\n",
    "    'EATING OR DRINKING': 'OTHER DISTRACTION',\n",
    "    'DISTRACTED BY OUTSIDE PERSON OBJECT OR EVENT': 'OTHER DISTRACTION',\n",
    "    'INATTENTIVE OR LOST IN THOUGHT': 'OTHER DISTRACTION',\n",
    "    'BY MOVING OBJECT IN VEHICLE': 'OTHER DISTRACTION',\n",
    "    'BY OTHER OCCUPANTS': 'OTHER DISTRACTION',\n",
    "    'SMOKING RELATED': 'OTHER DISTRACTION',\n",
    "    'OTHER ACTION (LOOKING AWAY FROM TASK, ETC.)': 'OTHER DISTRACTION',\n",
    "    'TALKING/LISTENING': 'OTHER DISTRACTION',\n",
    "    'TALKING OR LISTENING TO CELLULAR PHONE': 'ELECTRONICS',\n",
    "    'OTHER ELECTRONIC DEVICE (NAVIGATIONAL PALM PILOT)': 'ELECTRONICS',\n",
    "    'OTHER CELLULAR PHONE RELATED': 'ELECTRONICS',\n",
    "    'USING DEVICE OBJECT BROUGHT INTO VEHICLE': 'ELECTRONICS',\n",
    "    'DAILING CELLULAR PHONE': 'ELECTRONICS',\n",
    "    'TEXTING FROM A CELLULAR PHONE': 'ELECTRONICS',\n",
    "    'MANUALLY OPERATING (DIALING, PLAYING GAME, ETC.)': 'ELECTRONICS',\n",
    "    'ADJUSTING AUDIO AND OR CLIMATE CONTROLS': 'ELECTRONICS',\n",
    "    'USING OTHER DEVICE CONTROLS INTEGRAL TO VEHICLE': 'ELECTRONICS',\n",
    "    'DIALING CELLULAR PHONE': 'ELECTRONICS',\n",
    "    'NO DRIVER PRESENT': 'OTHER DISTRACTION',\n",
    "})\n",
    "\n",
    "df_copy['Driver Distracted By'].unique()\n",
    "\n",
    "# Use one hot encoding on Driver Distracted By\n"
   ]
  },
  {
   "cell_type": "markdown",
   "metadata": {
    "id": "xZ5Cu6hhl6qd"
   },
   "source": [
    "1.10 Vehicle Damage Extent"
   ]
  },
  {
   "cell_type": "code",
   "execution_count": 40,
   "metadata": {
    "colab": {
     "base_uri": "https://localhost:8080/"
    },
    "executionInfo": {
     "elapsed": 195,
     "status": "ok",
     "timestamp": 1746903061118,
     "user": {
      "displayName": "Caoimhe G",
      "userId": "03319613593755301938"
     },
     "user_tz": -120
    },
    "id": "aDzAgxnBl6qd",
    "outputId": "2f0bf1f5-a480-44ee-ab07-69c9bd4b2d2a"
   },
   "outputs": [
    {
     "data": {
      "text/plain": [
       "array(['MINOR DAMAGE', 'NO DAMAGE', 'MAJOR DAMAGE', 'DESTROYED'],\n",
       "      dtype=object)"
      ]
     },
     "execution_count": 40,
     "metadata": {},
     "output_type": "execute_result"
    }
   ],
   "source": [
    "df_copy['Vehicle Damage Extent'] = df_copy['Vehicle Damage Extent'].str.upper()\n",
    "\n",
    "df_copy['Vehicle Damage Extent'] = df_copy['Vehicle Damage Extent'].replace({\n",
    "    'NO DAMAGE': 'NO DAMAGE',\n",
    "    'SUPERFICIAL': 'MINOR DAMAGE',\n",
    "    'FUNCTIONAL': 'MINOR DAMAGE',\n",
    "    'DISABLING': 'MAJOR DAMAGE',\n",
    "    'DESTROYED': 'DESTROYED',\n",
    "    'VEHICLE NOT AT SCENE': 'NO DAMAGE',\n",
    "    'UNKNOWN': 'NO DAMAGE',\n",
    "    'OTHER': 'NO DAMAGE', #We do this so that we can use label encoding, instead of one hot encoding\n",
    "})\n",
    "\n",
    "\n",
    "df_copy['Vehicle Damage Extent'].unique()"
   ]
  },
  {
   "cell_type": "markdown",
   "metadata": {
    "id": "eGI1oXnnl6qd"
   },
   "source": [
    "1.11 Vehicle Body Type"
   ]
  },
  {
   "cell_type": "code",
   "execution_count": 41,
   "metadata": {
    "colab": {
     "base_uri": "https://localhost:8080/"
    },
    "executionInfo": {
     "elapsed": 101,
     "status": "ok",
     "timestamp": 1746903061215,
     "user": {
      "displayName": "Caoimhe G",
      "userId": "03319613593755301938"
     },
     "user_tz": -120
    },
    "id": "DOEwzDrSl6qd",
    "outputId": "2b150327-fff8-4c73-e059-db45e54f3969"
   },
   "outputs": [
    {
     "data": {
      "text/plain": [
       "array(['OTHER', 'PASSENGER', 'SPORT', 'UTILITY', 'VAN', 'BUS', 'TRUCK',\n",
       "       'RECREATIONAL', 'MOTORCYCLE', 'OFF-ROAD', 'HEAVY-DUTY', 'LUXURY'],\n",
       "      dtype=object)"
      ]
     },
     "execution_count": 41,
     "metadata": {},
     "output_type": "execute_result"
    }
   ],
   "source": [
    "def replace_vehicle_type(v):\n",
    "  value_lower = str(v).lower()\n",
    "  if 'passenger' in value_lower or 'low' in value_lower or 'sedan' in value_lower:\n",
    "    return 'passenger'\n",
    "  elif 'van' in value_lower:\n",
    "    return 'van'\n",
    "  elif 'truck' in value_lower or 'pickup' in value_lower:\n",
    "    return 'truck'\n",
    "  elif 'all-terrain' in value_lower or 'all terrain' in value_lower or '4x4' in value_lower:\n",
    "    return 'off-road'\n",
    "  elif 'sport' in value_lower or 'convertible' in value_lower:\n",
    "    return 'sport'\n",
    "  elif 'bus' in value_lower:\n",
    "    return 'bus'\n",
    "  elif 'motorcycle' in value_lower or 'motorized' in value_lower or 'moped' in value_lower or 'scooter' in value_lower or 'autocycle' in value_lower:\n",
    "    return 'motorcycle'\n",
    "  elif 'limousine' in value_lower or 'luxury' in value_lower or 'executive' in value_lower:\n",
    "    return 'luxury'\n",
    "  elif 'equipment' in value_lower or 'heavy-duty' in value_lower or 'farm' in value_lower or 'industrial' in value_lower:\n",
    "    return 'heavy-duty'\n",
    "  elif 'recreational' in value_lower or 'snowmobile' in value_lower or 'atv' in value_lower:\n",
    "    return 'recreational'\n",
    "  elif 'utility' in value_lower or 'emergency' in value_lower or 'station wagon' in value_lower or 'service' in value_lower:\n",
    "    return 'utility'\n",
    "  else:\n",
    "    return 'other'\n",
    "\n",
    "df_copy['Vehicle Body Type'] = df_copy['Vehicle Body Type'].apply(replace_vehicle_type)\n",
    "df_copy['Vehicle Body Type'] = df_copy['Vehicle Body Type'].str.upper()\n",
    "\n",
    "df_copy['Vehicle Body Type'].unique()\n",
    "\n",
    "#Apply one hot encoding to the Vehicle Body Type column"
   ]
  },
  {
   "cell_type": "markdown",
   "metadata": {
    "id": "1LoZncEll6qd"
   },
   "source": [
    "1.12 Speed Limit"
   ]
  },
  {
   "cell_type": "code",
   "execution_count": 42,
   "metadata": {
    "colab": {
     "base_uri": "https://localhost:8080/",
     "height": 617
    },
    "executionInfo": {
     "elapsed": 14,
     "status": "ok",
     "timestamp": 1746903061229,
     "user": {
      "displayName": "Caoimhe G",
      "userId": "03319613593755301938"
     },
     "user_tz": -120
    },
    "id": "ltM4_1U8l6qe",
    "outputId": "753db2ba-29d9-4b69-95e7-7b6cc676ade9"
   },
   "outputs": [
    {
     "data": {
      "text/html": [
       "<div>\n",
       "<style scoped>\n",
       "    .dataframe tbody tr th:only-of-type {\n",
       "        vertical-align: middle;\n",
       "    }\n",
       "\n",
       "    .dataframe tbody tr th {\n",
       "        vertical-align: top;\n",
       "    }\n",
       "\n",
       "    .dataframe thead th {\n",
       "        text-align: right;\n",
       "    }\n",
       "</style>\n",
       "<table border=\"1\" class=\"dataframe\">\n",
       "  <thead>\n",
       "    <tr style=\"text-align: right;\">\n",
       "      <th></th>\n",
       "      <th>count</th>\n",
       "    </tr>\n",
       "    <tr>\n",
       "      <th>Speed Limit</th>\n",
       "      <th></th>\n",
       "    </tr>\n",
       "  </thead>\n",
       "  <tbody>\n",
       "    <tr>\n",
       "      <th>35</th>\n",
       "      <td>57446</td>\n",
       "    </tr>\n",
       "    <tr>\n",
       "      <th>40</th>\n",
       "      <td>36219</td>\n",
       "    </tr>\n",
       "    <tr>\n",
       "      <th>25</th>\n",
       "      <td>26742</td>\n",
       "    </tr>\n",
       "    <tr>\n",
       "      <th>30</th>\n",
       "      <td>26300</td>\n",
       "    </tr>\n",
       "    <tr>\n",
       "      <th>45</th>\n",
       "      <td>13262</td>\n",
       "    </tr>\n",
       "    <tr>\n",
       "      <th>0</th>\n",
       "      <td>6513</td>\n",
       "    </tr>\n",
       "    <tr>\n",
       "      <th>15</th>\n",
       "      <td>6234</td>\n",
       "    </tr>\n",
       "    <tr>\n",
       "      <th>50</th>\n",
       "      <td>5120</td>\n",
       "    </tr>\n",
       "    <tr>\n",
       "      <th>55</th>\n",
       "      <td>4347</td>\n",
       "    </tr>\n",
       "    <tr>\n",
       "      <th>5</th>\n",
       "      <td>4138</td>\n",
       "    </tr>\n",
       "    <tr>\n",
       "      <th>10</th>\n",
       "      <td>3084</td>\n",
       "    </tr>\n",
       "    <tr>\n",
       "      <th>20</th>\n",
       "      <td>1428</td>\n",
       "    </tr>\n",
       "    <tr>\n",
       "      <th>60</th>\n",
       "      <td>87</td>\n",
       "    </tr>\n",
       "    <tr>\n",
       "      <th>65</th>\n",
       "      <td>59</td>\n",
       "    </tr>\n",
       "    <tr>\n",
       "      <th>70</th>\n",
       "      <td>7</td>\n",
       "    </tr>\n",
       "    <tr>\n",
       "      <th>75</th>\n",
       "      <td>1</td>\n",
       "    </tr>\n",
       "  </tbody>\n",
       "</table>\n",
       "</div><br><label><b>dtype:</b> int64</label>"
      ],
      "text/plain": [
       "Speed Limit\n",
       "35    57446\n",
       "40    36219\n",
       "25    26742\n",
       "30    26300\n",
       "45    13262\n",
       "0      6513\n",
       "15     6234\n",
       "50     5120\n",
       "55     4347\n",
       "5      4138\n",
       "10     3084\n",
       "20     1428\n",
       "60       87\n",
       "65       59\n",
       "70        7\n",
       "75        1\n",
       "Name: count, dtype: int64"
      ]
     },
     "execution_count": 42,
     "metadata": {},
     "output_type": "execute_result"
    }
   ],
   "source": [
    "#Speed limit value count\n",
    "df_copy['Speed Limit'].value_counts()\n",
    "\n",
    "#What should we do with the speed limit values = 0, 5 and 10? No such speed limits exist\n"
   ]
  },
  {
   "cell_type": "markdown",
   "metadata": {
    "id": "EQi-Xm9tl6qe"
   },
   "source": [
    "1.13 Vehicle Year  "
   ]
  },
  {
   "cell_type": "code",
   "execution_count": 43,
   "metadata": {
    "colab": {
     "base_uri": "https://localhost:8080/"
    },
    "executionInfo": {
     "elapsed": 94,
     "status": "ok",
     "timestamp": 1746903061331,
     "user": {
      "displayName": "Caoimhe G",
      "userId": "03319613593755301938"
     },
     "user_tz": -120
    },
    "id": "IeiVG-hWl6qe",
    "outputId": "08d4332d-404b-4c6a-d8ae-9b981a7870b3"
   },
   "outputs": [
    {
     "name": "stdout",
     "output_type": "stream",
     "text": [
      "Before outlier removal the data contains 190987 records\n",
      "Outliers detected using IQR:  2348\n",
      "The data now contains 188639 records\n"
     ]
    }
   ],
   "source": [
    "# Vehicle Year\n",
    "\n",
    "df_copy['Vehicle Year'].value_counts()\n",
    "\n",
    "# Identify outliers using IQR\n",
    "Q1 = df_copy[\"Vehicle Year\"].quantile(0.25)\n",
    "Q3 = df_copy[\"Vehicle Year\"].quantile(0.75)\n",
    "IQR = Q3 - Q1\n",
    "outliers_iqr = (df_copy[\"Vehicle Year\"] < (Q1 - 1.5 * IQR)) | (df_copy[\"Vehicle Year\"] > (Q3 + 1.5 * IQR))\n",
    "num_outliers = outliers_iqr.sum()\n",
    "\n",
    "print(f'Before outlier removal the data contains {df_copy.shape[0]} records')\n",
    "df_copy = df_copy[~outliers_iqr]\n",
    "print(\"Outliers detected using IQR: \", num_outliers)\n",
    "print(f'The data now contains {df_copy.shape[0]} records')\n"
   ]
  },
  {
   "cell_type": "markdown",
   "metadata": {
    "id": "O5suQbGUl6qe"
   },
   "source": [
    "1.14 Vehicle Make"
   ]
  },
  {
   "cell_type": "code",
   "execution_count": 44,
   "metadata": {
    "colab": {
     "base_uri": "https://localhost:8080/"
    },
    "executionInfo": {
     "elapsed": 234,
     "status": "ok",
     "timestamp": 1746903061564,
     "user": {
      "displayName": "Caoimhe G",
      "userId": "03319613593755301938"
     },
     "user_tz": -120
    },
    "id": "rR4_ebuVl6qe",
    "outputId": "dfd65e10-f16b-48f8-9384-3565e8dee3bb"
   },
   "outputs": [
    {
     "data": {
      "text/plain": [
       "array(['OTHER', 'TOYOTA', 'RAM', 'AUDI', 'MERCEDES-BENZ', 'FORD', 'HONDA',\n",
       "       'VOLKSWAGEN', 'KIA', 'BMW', 'CHRYSLER', 'MAZDA', 'CHEVROLET',\n",
       "       'JEEP', 'HYUNDAI', 'NISSAN', 'GMC', 'LEXUS', 'ACURA', 'DODGE',\n",
       "       'SUBARU', 'CADILLAC', 'LINCOLN', 'BUICK', 'INFINITI', 'MITSUBISHI',\n",
       "       'MINI', 'TESLA', 'VOLVO', 'FIAT', 'LAND ROVER', 'PORSCHE',\n",
       "       'JAGUAR', 'HARLEY DAVIDSON'], dtype=object)"
      ]
     },
     "execution_count": 44,
     "metadata": {},
     "output_type": "execute_result"
    }
   ],
   "source": [
    "def replace_vehicle_make(value):\n",
    "    value_lower = str(value).lower()\n",
    "    if 'har' in value_lower:\n",
    "        return 'Harley Davidson'\n",
    "    if 'chevy' in value_lower or 'chevrolet' in value_lower:\n",
    "        return 'Chevrolet'\n",
    "    if 'honda' in value_lower:\n",
    "        return 'Honda'\n",
    "    if 'toyota' in value_lower:\n",
    "        return 'Toyota'\n",
    "    if 'mits' in value_lower or 'mitsubishi' in value_lower:\n",
    "        return 'Mitsubishi'\n",
    "    if 'buic' in value_lower or 'buick' in value_lower:\n",
    "        return 'Buick'\n",
    "    if 'kia' in value_lower:\n",
    "        return 'Kia'\n",
    "    if 'hyundai' in value_lower:\n",
    "        return 'Hyundai'\n",
    "    if 'ford' in value_lower:\n",
    "        return 'Ford'\n",
    "    if 'nissan' in value_lower:\n",
    "        return 'Nissan'\n",
    "    if 'tesla' in value_lower:\n",
    "        return 'Tesla'\n",
    "    if 'bmw' in value_lower:\n",
    "        return 'BMW'\n",
    "    if 'mercedes' in value_lower or 'merz' in value_lower:\n",
    "        return 'Mercedes-Benz'\n",
    "    if 'audi' in value_lower:\n",
    "        return 'Audi'\n",
    "    if 'volkswagen' in value_lower or 'vw' in value_lower:\n",
    "        return 'Volkswagen'\n",
    "    if 'subaru' in value_lower:\n",
    "        return 'Subaru'\n",
    "    if 'mazda' in value_lower:\n",
    "        return 'Mazda'\n",
    "    if 'jeep' in value_lower:\n",
    "        return 'Jeep'\n",
    "    if 'dodge' in value_lower:\n",
    "        return 'Dodge'\n",
    "    if 'chrysler' in value_lower:\n",
    "        return 'Chrysler'\n",
    "    if 'lexus' in value_lower:\n",
    "        return 'Lexus'\n",
    "    if 'infiniti' in value_lower:\n",
    "        return 'Infiniti'\n",
    "    if 'acura' in value_lower:\n",
    "        return 'Acura'\n",
    "    if 'cadillac' in value_lower:\n",
    "        return 'Cadillac'\n",
    "    if 'gmc' in value_lower:\n",
    "        return 'GMC'\n",
    "    if 'ram' in value_lower:\n",
    "        return 'Ram'\n",
    "    if 'volvo' in value_lower:\n",
    "        return 'Volvo'\n",
    "    if 'land rover' in value_lower:\n",
    "        return 'Land Rover'\n",
    "    if 'jaguar' in value_lower:\n",
    "        return 'Jaguar'\n",
    "    if 'fiat' in value_lower:\n",
    "        return 'Fiat'\n",
    "    if 'mini' in value_lower:\n",
    "        return 'Mini'\n",
    "    if 'porsche' in value_lower:\n",
    "        return 'Porsche'\n",
    "    if 'lincoln' in value_lower:\n",
    "        return 'Lincoln'\n",
    "    else:\n",
    "        return 'Other'\n",
    "\n",
    "df_copy['Vehicle Make'] = df_copy['Vehicle Make'].apply(replace_vehicle_make)\n",
    "df_copy['Vehicle Make'] = df_copy['Vehicle Make'].str.upper()\n",
    "df_copy['Vehicle Make'].unique()"
   ]
  },
  {
   "cell_type": "markdown",
   "metadata": {
    "id": "KqsUgRmAl6qe"
   },
   "source": [
    "1.15 Latitude"
   ]
  },
  {
   "cell_type": "code",
   "execution_count": 45,
   "metadata": {
    "colab": {
     "base_uri": "https://localhost:8080/",
     "height": 489
    },
    "executionInfo": {
     "elapsed": 5,
     "status": "ok",
     "timestamp": 1746903061565,
     "user": {
      "displayName": "Caoimhe G",
      "userId": "03319613593755301938"
     },
     "user_tz": -120
    },
    "id": "3TmcWfWMl6qe",
    "outputId": "f6486e08-5269-435a-f9b9-6e33bd7b1e8b"
   },
   "outputs": [
    {
     "data": {
      "text/html": [
       "<div>\n",
       "<style scoped>\n",
       "    .dataframe tbody tr th:only-of-type {\n",
       "        vertical-align: middle;\n",
       "    }\n",
       "\n",
       "    .dataframe tbody tr th {\n",
       "        vertical-align: top;\n",
       "    }\n",
       "\n",
       "    .dataframe thead th {\n",
       "        text-align: right;\n",
       "    }\n",
       "</style>\n",
       "<table border=\"1\" class=\"dataframe\">\n",
       "  <thead>\n",
       "    <tr style=\"text-align: right;\">\n",
       "      <th></th>\n",
       "      <th>count</th>\n",
       "    </tr>\n",
       "    <tr>\n",
       "      <th>Latitude</th>\n",
       "      <th></th>\n",
       "    </tr>\n",
       "  </thead>\n",
       "  <tbody>\n",
       "    <tr>\n",
       "      <th>38.953000</th>\n",
       "      <td>44</td>\n",
       "    </tr>\n",
       "    <tr>\n",
       "      <th>39.113428</th>\n",
       "      <td>28</td>\n",
       "    </tr>\n",
       "    <tr>\n",
       "      <th>39.045425</th>\n",
       "      <td>26</td>\n",
       "    </tr>\n",
       "    <tr>\n",
       "      <th>39.046277</th>\n",
       "      <td>24</td>\n",
       "    </tr>\n",
       "    <tr>\n",
       "      <th>39.079976</th>\n",
       "      <td>20</td>\n",
       "    </tr>\n",
       "    <tr>\n",
       "      <th>...</th>\n",
       "      <td>...</td>\n",
       "    </tr>\n",
       "    <tr>\n",
       "      <th>39.131071</th>\n",
       "      <td>1</td>\n",
       "    </tr>\n",
       "    <tr>\n",
       "      <th>39.101830</th>\n",
       "      <td>1</td>\n",
       "    </tr>\n",
       "    <tr>\n",
       "      <th>39.178424</th>\n",
       "      <td>1</td>\n",
       "    </tr>\n",
       "    <tr>\n",
       "      <th>39.214649</th>\n",
       "      <td>1</td>\n",
       "    </tr>\n",
       "    <tr>\n",
       "      <th>38.999969</th>\n",
       "      <td>1</td>\n",
       "    </tr>\n",
       "  </tbody>\n",
       "</table>\n",
       "<p>95151 rows × 1 columns</p>\n",
       "</div><br><label><b>dtype:</b> int64</label>"
      ],
      "text/plain": [
       "Latitude\n",
       "38.953000    44\n",
       "39.113428    28\n",
       "39.045425    26\n",
       "39.046277    24\n",
       "39.079976    20\n",
       "             ..\n",
       "39.131071     1\n",
       "39.101830     1\n",
       "39.178424     1\n",
       "39.214649     1\n",
       "38.999969     1\n",
       "Name: count, Length: 95151, dtype: int64"
      ]
     },
     "execution_count": 45,
     "metadata": {},
     "output_type": "execute_result"
    }
   ],
   "source": [
    "# Latitude\n",
    "df_copy['Latitude'].value_counts()"
   ]
  },
  {
   "cell_type": "markdown",
   "metadata": {
    "id": "U3_TshrDl6qe"
   },
   "source": [
    "1.15 Longitude"
   ]
  },
  {
   "cell_type": "code",
   "execution_count": 46,
   "metadata": {
    "colab": {
     "base_uri": "https://localhost:8080/",
     "height": 489
    },
    "executionInfo": {
     "elapsed": 20,
     "status": "ok",
     "timestamp": 1746903061602,
     "user": {
      "displayName": "Caoimhe G",
      "userId": "03319613593755301938"
     },
     "user_tz": -120
    },
    "id": "ug3W7P1bl6qe",
    "outputId": "3a9f4656-5e4c-4bef-8137-d06130dfafe6"
   },
   "outputs": [
    {
     "data": {
      "text/html": [
       "<div>\n",
       "<style scoped>\n",
       "    .dataframe tbody tr th:only-of-type {\n",
       "        vertical-align: middle;\n",
       "    }\n",
       "\n",
       "    .dataframe tbody tr th {\n",
       "        vertical-align: top;\n",
       "    }\n",
       "\n",
       "    .dataframe thead th {\n",
       "        text-align: right;\n",
       "    }\n",
       "</style>\n",
       "<table border=\"1\" class=\"dataframe\">\n",
       "  <thead>\n",
       "    <tr style=\"text-align: right;\">\n",
       "      <th></th>\n",
       "      <th>count</th>\n",
       "    </tr>\n",
       "    <tr>\n",
       "      <th>Longitude</th>\n",
       "      <th></th>\n",
       "    </tr>\n",
       "  </thead>\n",
       "  <tbody>\n",
       "    <tr>\n",
       "      <th>-77.338000</th>\n",
       "      <td>44</td>\n",
       "    </tr>\n",
       "    <tr>\n",
       "      <th>-77.236482</th>\n",
       "      <td>28</td>\n",
       "    </tr>\n",
       "    <tr>\n",
       "      <th>-76.990695</th>\n",
       "      <td>27</td>\n",
       "    </tr>\n",
       "    <tr>\n",
       "      <th>-76.990737</th>\n",
       "      <td>26</td>\n",
       "    </tr>\n",
       "    <tr>\n",
       "      <th>-77.138263</th>\n",
       "      <td>20</td>\n",
       "    </tr>\n",
       "    <tr>\n",
       "      <th>...</th>\n",
       "      <td>...</td>\n",
       "    </tr>\n",
       "    <tr>\n",
       "      <th>-76.940881</th>\n",
       "      <td>1</td>\n",
       "    </tr>\n",
       "    <tr>\n",
       "      <th>-77.146398</th>\n",
       "      <td>1</td>\n",
       "    </tr>\n",
       "    <tr>\n",
       "      <th>-76.977492</th>\n",
       "      <td>1</td>\n",
       "    </tr>\n",
       "    <tr>\n",
       "      <th>-77.269949</th>\n",
       "      <td>1</td>\n",
       "    </tr>\n",
       "    <tr>\n",
       "      <th>-77.129073</th>\n",
       "      <td>1</td>\n",
       "    </tr>\n",
       "  </tbody>\n",
       "</table>\n",
       "<p>97247 rows × 1 columns</p>\n",
       "</div><br><label><b>dtype:</b> int64</label>"
      ],
      "text/plain": [
       "Longitude\n",
       "-77.338000    44\n",
       "-77.236482    28\n",
       "-76.990695    27\n",
       "-76.990737    26\n",
       "-77.138263    20\n",
       "              ..\n",
       "-76.940881     1\n",
       "-77.146398     1\n",
       "-76.977492     1\n",
       "-77.269949     1\n",
       "-77.129073     1\n",
       "Name: count, Length: 97247, dtype: int64"
      ]
     },
     "execution_count": 46,
     "metadata": {},
     "output_type": "execute_result"
    }
   ],
   "source": [
    "# Longitude\n",
    "df_copy['Longitude'].value_counts()"
   ]
  },
  {
   "cell_type": "markdown",
   "metadata": {
    "id": "XnmTOQqEl6qk"
   },
   "source": [
    "Now that we have gone through all the features, we can do some more checks"
   ]
  },
  {
   "cell_type": "code",
   "execution_count": 47,
   "metadata": {
    "colab": {
     "base_uri": "https://localhost:8080/",
     "height": 414
    },
    "executionInfo": {
     "elapsed": 28,
     "status": "ok",
     "timestamp": 1746903061632,
     "user": {
      "displayName": "Caoimhe G",
      "userId": "03319613593755301938"
     },
     "user_tz": -120
    },
    "id": "rerYb3wFl6qk",
    "outputId": "8f6d6ede-0a75-4a24-8abc-daf902622264"
   },
   "outputs": [
    {
     "data": {
      "application/vnd.google.colaboratory.intrinsic+json": {
       "type": "dataframe",
       "variable_name": "df_copy"
      },
      "text/html": [
       "\n",
       "  <div id=\"df-dced29bd-ce4b-44ee-9b6c-916ffedb1c43\" class=\"colab-df-container\">\n",
       "    <div>\n",
       "<style scoped>\n",
       "    .dataframe tbody tr th:only-of-type {\n",
       "        vertical-align: middle;\n",
       "    }\n",
       "\n",
       "    .dataframe tbody tr th {\n",
       "        vertical-align: top;\n",
       "    }\n",
       "\n",
       "    .dataframe thead th {\n",
       "        text-align: right;\n",
       "    }\n",
       "</style>\n",
       "<table border=\"1\" class=\"dataframe\">\n",
       "  <thead>\n",
       "    <tr style=\"text-align: right;\">\n",
       "      <th></th>\n",
       "      <th>ACRS Report Type</th>\n",
       "      <th>Crash Date/Time</th>\n",
       "      <th>Collision Type</th>\n",
       "      <th>Weather</th>\n",
       "      <th>Surface Condition</th>\n",
       "      <th>Light</th>\n",
       "      <th>Driver Substance Abuse</th>\n",
       "      <th>Injury Severity</th>\n",
       "      <th>Driver Distracted By</th>\n",
       "      <th>Vehicle Damage Extent</th>\n",
       "      <th>Vehicle Body Type</th>\n",
       "      <th>Speed Limit</th>\n",
       "      <th>Vehicle Year</th>\n",
       "      <th>Vehicle Make</th>\n",
       "      <th>Latitude</th>\n",
       "      <th>Longitude</th>\n",
       "      <th>Crash Hour</th>\n",
       "    </tr>\n",
       "  </thead>\n",
       "  <tbody>\n",
       "    <tr>\n",
       "      <th>0</th>\n",
       "      <td>Property Damage Crash</td>\n",
       "      <td>2021-05-27 19:40:00</td>\n",
       "      <td>UNKNOWN</td>\n",
       "      <td>CLEAR</td>\n",
       "      <td>DRY</td>\n",
       "      <td>Evening</td>\n",
       "      <td>NONE DETECTED</td>\n",
       "      <td>NO APPARENT INJURY</td>\n",
       "      <td>UNKNOWN</td>\n",
       "      <td>MINOR DAMAGE</td>\n",
       "      <td>OTHER</td>\n",
       "      <td>0</td>\n",
       "      <td>2017</td>\n",
       "      <td>OTHER</td>\n",
       "      <td>38.987657</td>\n",
       "      <td>-76.987545</td>\n",
       "      <td>19</td>\n",
       "    </tr>\n",
       "    <tr>\n",
       "      <th>1</th>\n",
       "      <td>Property Damage Crash</td>\n",
       "      <td>2015-09-11 13:29:00</td>\n",
       "      <td>UNKNOWN</td>\n",
       "      <td>CLEAR</td>\n",
       "      <td>DRY</td>\n",
       "      <td>Afternoon</td>\n",
       "      <td>NONE DETECTED</td>\n",
       "      <td>NO APPARENT INJURY</td>\n",
       "      <td>UNKNOWN</td>\n",
       "      <td>NO DAMAGE</td>\n",
       "      <td>PASSENGER</td>\n",
       "      <td>5</td>\n",
       "      <td>2012</td>\n",
       "      <td>TOYOTA</td>\n",
       "      <td>39.039917</td>\n",
       "      <td>-77.053649</td>\n",
       "      <td>13</td>\n",
       "    </tr>\n",
       "    <tr>\n",
       "      <th>2</th>\n",
       "      <td>Property Damage Crash</td>\n",
       "      <td>2018-08-17 14:25:00</td>\n",
       "      <td>UNKNOWN</td>\n",
       "      <td>CLEAR</td>\n",
       "      <td>DRY</td>\n",
       "      <td>Afternoon</td>\n",
       "      <td>NONE DETECTED</td>\n",
       "      <td>NO APPARENT INJURY</td>\n",
       "      <td>NOT DISTRACTED</td>\n",
       "      <td>NO DAMAGE</td>\n",
       "      <td>PASSENGER</td>\n",
       "      <td>15</td>\n",
       "      <td>2015</td>\n",
       "      <td>OTHER</td>\n",
       "      <td>38.743373</td>\n",
       "      <td>-77.546997</td>\n",
       "      <td>14</td>\n",
       "    </tr>\n",
       "    <tr>\n",
       "      <th>3</th>\n",
       "      <td>Injury Crash</td>\n",
       "      <td>2023-08-11 18:00:00</td>\n",
       "      <td>SINGLE VEHICLE</td>\n",
       "      <td>CLEAR</td>\n",
       "      <td>DRY</td>\n",
       "      <td>Evening</td>\n",
       "      <td>NONE DETECTED</td>\n",
       "      <td>NO APPARENT INJURY</td>\n",
       "      <td>UNKNOWN</td>\n",
       "      <td>NO DAMAGE</td>\n",
       "      <td>PASSENGER</td>\n",
       "      <td>15</td>\n",
       "      <td>2018</td>\n",
       "      <td>RAM</td>\n",
       "      <td>39.145873</td>\n",
       "      <td>-77.191940</td>\n",
       "      <td>18</td>\n",
       "    </tr>\n",
       "    <tr>\n",
       "      <th>4</th>\n",
       "      <td>Property Damage Crash</td>\n",
       "      <td>2023-12-06 18:42:00</td>\n",
       "      <td>STRAIGHT MOVEMENT ANGLE</td>\n",
       "      <td>CLEAR</td>\n",
       "      <td>DRY</td>\n",
       "      <td>Evening</td>\n",
       "      <td>NONE DETECTED</td>\n",
       "      <td>NO APPARENT INJURY</td>\n",
       "      <td>NOT DISTRACTED</td>\n",
       "      <td>MAJOR DAMAGE</td>\n",
       "      <td>PASSENGER</td>\n",
       "      <td>35</td>\n",
       "      <td>2017</td>\n",
       "      <td>AUDI</td>\n",
       "      <td>39.025170</td>\n",
       "      <td>-77.076333</td>\n",
       "      <td>18</td>\n",
       "    </tr>\n",
       "  </tbody>\n",
       "</table>\n",
       "</div>\n",
       "    <div class=\"colab-df-buttons\">\n",
       "\n",
       "  <div class=\"colab-df-container\">\n",
       "    <button class=\"colab-df-convert\" onclick=\"convertToInteractive('df-dced29bd-ce4b-44ee-9b6c-916ffedb1c43')\"\n",
       "            title=\"Convert this dataframe to an interactive table.\"\n",
       "            style=\"display:none;\">\n",
       "\n",
       "  <svg xmlns=\"http://www.w3.org/2000/svg\" height=\"24px\" viewBox=\"0 -960 960 960\">\n",
       "    <path d=\"M120-120v-720h720v720H120Zm60-500h600v-160H180v160Zm220 220h160v-160H400v160Zm0 220h160v-160H400v160ZM180-400h160v-160H180v160Zm440 0h160v-160H620v160ZM180-180h160v-160H180v160Zm440 0h160v-160H620v160Z\"/>\n",
       "  </svg>\n",
       "    </button>\n",
       "\n",
       "  <style>\n",
       "    .colab-df-container {\n",
       "      display:flex;\n",
       "      gap: 12px;\n",
       "    }\n",
       "\n",
       "    .colab-df-convert {\n",
       "      background-color: #E8F0FE;\n",
       "      border: none;\n",
       "      border-radius: 50%;\n",
       "      cursor: pointer;\n",
       "      display: none;\n",
       "      fill: #1967D2;\n",
       "      height: 32px;\n",
       "      padding: 0 0 0 0;\n",
       "      width: 32px;\n",
       "    }\n",
       "\n",
       "    .colab-df-convert:hover {\n",
       "      background-color: #E2EBFA;\n",
       "      box-shadow: 0px 1px 2px rgba(60, 64, 67, 0.3), 0px 1px 3px 1px rgba(60, 64, 67, 0.15);\n",
       "      fill: #174EA6;\n",
       "    }\n",
       "\n",
       "    .colab-df-buttons div {\n",
       "      margin-bottom: 4px;\n",
       "    }\n",
       "\n",
       "    [theme=dark] .colab-df-convert {\n",
       "      background-color: #3B4455;\n",
       "      fill: #D2E3FC;\n",
       "    }\n",
       "\n",
       "    [theme=dark] .colab-df-convert:hover {\n",
       "      background-color: #434B5C;\n",
       "      box-shadow: 0px 1px 3px 1px rgba(0, 0, 0, 0.15);\n",
       "      filter: drop-shadow(0px 1px 2px rgba(0, 0, 0, 0.3));\n",
       "      fill: #FFFFFF;\n",
       "    }\n",
       "  </style>\n",
       "\n",
       "    <script>\n",
       "      const buttonEl =\n",
       "        document.querySelector('#df-dced29bd-ce4b-44ee-9b6c-916ffedb1c43 button.colab-df-convert');\n",
       "      buttonEl.style.display =\n",
       "        google.colab.kernel.accessAllowed ? 'block' : 'none';\n",
       "\n",
       "      async function convertToInteractive(key) {\n",
       "        const element = document.querySelector('#df-dced29bd-ce4b-44ee-9b6c-916ffedb1c43');\n",
       "        const dataTable =\n",
       "          await google.colab.kernel.invokeFunction('convertToInteractive',\n",
       "                                                    [key], {});\n",
       "        if (!dataTable) return;\n",
       "\n",
       "        const docLinkHtml = 'Like what you see? Visit the ' +\n",
       "          '<a target=\"_blank\" href=https://colab.research.google.com/notebooks/data_table.ipynb>data table notebook</a>'\n",
       "          + ' to learn more about interactive tables.';\n",
       "        element.innerHTML = '';\n",
       "        dataTable['output_type'] = 'display_data';\n",
       "        await google.colab.output.renderOutput(dataTable, element);\n",
       "        const docLink = document.createElement('div');\n",
       "        docLink.innerHTML = docLinkHtml;\n",
       "        element.appendChild(docLink);\n",
       "      }\n",
       "    </script>\n",
       "  </div>\n",
       "\n",
       "\n",
       "    <div id=\"df-b34eb07e-b20e-443b-a4a3-ccfd123e9a67\">\n",
       "      <button class=\"colab-df-quickchart\" onclick=\"quickchart('df-b34eb07e-b20e-443b-a4a3-ccfd123e9a67')\"\n",
       "                title=\"Suggest charts\"\n",
       "                style=\"display:none;\">\n",
       "\n",
       "<svg xmlns=\"http://www.w3.org/2000/svg\" height=\"24px\"viewBox=\"0 0 24 24\"\n",
       "     width=\"24px\">\n",
       "    <g>\n",
       "        <path d=\"M19 3H5c-1.1 0-2 .9-2 2v14c0 1.1.9 2 2 2h14c1.1 0 2-.9 2-2V5c0-1.1-.9-2-2-2zM9 17H7v-7h2v7zm4 0h-2V7h2v10zm4 0h-2v-4h2v4z\"/>\n",
       "    </g>\n",
       "</svg>\n",
       "      </button>\n",
       "\n",
       "<style>\n",
       "  .colab-df-quickchart {\n",
       "      --bg-color: #E8F0FE;\n",
       "      --fill-color: #1967D2;\n",
       "      --hover-bg-color: #E2EBFA;\n",
       "      --hover-fill-color: #174EA6;\n",
       "      --disabled-fill-color: #AAA;\n",
       "      --disabled-bg-color: #DDD;\n",
       "  }\n",
       "\n",
       "  [theme=dark] .colab-df-quickchart {\n",
       "      --bg-color: #3B4455;\n",
       "      --fill-color: #D2E3FC;\n",
       "      --hover-bg-color: #434B5C;\n",
       "      --hover-fill-color: #FFFFFF;\n",
       "      --disabled-bg-color: #3B4455;\n",
       "      --disabled-fill-color: #666;\n",
       "  }\n",
       "\n",
       "  .colab-df-quickchart {\n",
       "    background-color: var(--bg-color);\n",
       "    border: none;\n",
       "    border-radius: 50%;\n",
       "    cursor: pointer;\n",
       "    display: none;\n",
       "    fill: var(--fill-color);\n",
       "    height: 32px;\n",
       "    padding: 0;\n",
       "    width: 32px;\n",
       "  }\n",
       "\n",
       "  .colab-df-quickchart:hover {\n",
       "    background-color: var(--hover-bg-color);\n",
       "    box-shadow: 0 1px 2px rgba(60, 64, 67, 0.3), 0 1px 3px 1px rgba(60, 64, 67, 0.15);\n",
       "    fill: var(--button-hover-fill-color);\n",
       "  }\n",
       "\n",
       "  .colab-df-quickchart-complete:disabled,\n",
       "  .colab-df-quickchart-complete:disabled:hover {\n",
       "    background-color: var(--disabled-bg-color);\n",
       "    fill: var(--disabled-fill-color);\n",
       "    box-shadow: none;\n",
       "  }\n",
       "\n",
       "  .colab-df-spinner {\n",
       "    border: 2px solid var(--fill-color);\n",
       "    border-color: transparent;\n",
       "    border-bottom-color: var(--fill-color);\n",
       "    animation:\n",
       "      spin 1s steps(1) infinite;\n",
       "  }\n",
       "\n",
       "  @keyframes spin {\n",
       "    0% {\n",
       "      border-color: transparent;\n",
       "      border-bottom-color: var(--fill-color);\n",
       "      border-left-color: var(--fill-color);\n",
       "    }\n",
       "    20% {\n",
       "      border-color: transparent;\n",
       "      border-left-color: var(--fill-color);\n",
       "      border-top-color: var(--fill-color);\n",
       "    }\n",
       "    30% {\n",
       "      border-color: transparent;\n",
       "      border-left-color: var(--fill-color);\n",
       "      border-top-color: var(--fill-color);\n",
       "      border-right-color: var(--fill-color);\n",
       "    }\n",
       "    40% {\n",
       "      border-color: transparent;\n",
       "      border-right-color: var(--fill-color);\n",
       "      border-top-color: var(--fill-color);\n",
       "    }\n",
       "    60% {\n",
       "      border-color: transparent;\n",
       "      border-right-color: var(--fill-color);\n",
       "    }\n",
       "    80% {\n",
       "      border-color: transparent;\n",
       "      border-right-color: var(--fill-color);\n",
       "      border-bottom-color: var(--fill-color);\n",
       "    }\n",
       "    90% {\n",
       "      border-color: transparent;\n",
       "      border-bottom-color: var(--fill-color);\n",
       "    }\n",
       "  }\n",
       "</style>\n",
       "\n",
       "      <script>\n",
       "        async function quickchart(key) {\n",
       "          const quickchartButtonEl =\n",
       "            document.querySelector('#' + key + ' button');\n",
       "          quickchartButtonEl.disabled = true;  // To prevent multiple clicks.\n",
       "          quickchartButtonEl.classList.add('colab-df-spinner');\n",
       "          try {\n",
       "            const charts = await google.colab.kernel.invokeFunction(\n",
       "                'suggestCharts', [key], {});\n",
       "          } catch (error) {\n",
       "            console.error('Error during call to suggestCharts:', error);\n",
       "          }\n",
       "          quickchartButtonEl.classList.remove('colab-df-spinner');\n",
       "          quickchartButtonEl.classList.add('colab-df-quickchart-complete');\n",
       "        }\n",
       "        (() => {\n",
       "          let quickchartButtonEl =\n",
       "            document.querySelector('#df-b34eb07e-b20e-443b-a4a3-ccfd123e9a67 button');\n",
       "          quickchartButtonEl.style.display =\n",
       "            google.colab.kernel.accessAllowed ? 'block' : 'none';\n",
       "        })();\n",
       "      </script>\n",
       "    </div>\n",
       "\n",
       "    </div>\n",
       "  </div>\n"
      ],
      "text/plain": [
       "        ACRS Report Type     Crash Date/Time           Collision Type Weather  \\\n",
       "0  Property Damage Crash 2021-05-27 19:40:00                  UNKNOWN   CLEAR   \n",
       "1  Property Damage Crash 2015-09-11 13:29:00                  UNKNOWN   CLEAR   \n",
       "2  Property Damage Crash 2018-08-17 14:25:00                  UNKNOWN   CLEAR   \n",
       "3           Injury Crash 2023-08-11 18:00:00           SINGLE VEHICLE   CLEAR   \n",
       "4  Property Damage Crash 2023-12-06 18:42:00  STRAIGHT MOVEMENT ANGLE   CLEAR   \n",
       "\n",
       "  Surface Condition      Light Driver Substance Abuse     Injury Severity  \\\n",
       "0               DRY    Evening          NONE DETECTED  NO APPARENT INJURY   \n",
       "1               DRY  Afternoon          NONE DETECTED  NO APPARENT INJURY   \n",
       "2               DRY  Afternoon          NONE DETECTED  NO APPARENT INJURY   \n",
       "3               DRY    Evening          NONE DETECTED  NO APPARENT INJURY   \n",
       "4               DRY    Evening          NONE DETECTED  NO APPARENT INJURY   \n",
       "\n",
       "  Driver Distracted By Vehicle Damage Extent Vehicle Body Type  Speed Limit  \\\n",
       "0              UNKNOWN          MINOR DAMAGE             OTHER            0   \n",
       "1              UNKNOWN             NO DAMAGE         PASSENGER            5   \n",
       "2       NOT DISTRACTED             NO DAMAGE         PASSENGER           15   \n",
       "3              UNKNOWN             NO DAMAGE         PASSENGER           15   \n",
       "4       NOT DISTRACTED          MAJOR DAMAGE         PASSENGER           35   \n",
       "\n",
       "   Vehicle Year Vehicle Make   Latitude  Longitude  Crash Hour  \n",
       "0          2017        OTHER  38.987657 -76.987545          19  \n",
       "1          2012       TOYOTA  39.039917 -77.053649          13  \n",
       "2          2015        OTHER  38.743373 -77.546997          14  \n",
       "3          2018          RAM  39.145873 -77.191940          18  \n",
       "4          2017         AUDI  39.025170 -77.076333          18  "
      ]
     },
     "execution_count": 47,
     "metadata": {},
     "output_type": "execute_result"
    }
   ],
   "source": [
    "df_copy.head()"
   ]
  },
  {
   "cell_type": "code",
   "execution_count": 48,
   "metadata": {
    "colab": {
     "base_uri": "https://localhost:8080/"
    },
    "executionInfo": {
     "elapsed": 62,
     "status": "ok",
     "timestamp": 1746903061694,
     "user": {
      "displayName": "Caoimhe G",
      "userId": "03319613593755301938"
     },
     "user_tz": -120
    },
    "id": "QzGdxashvMFn",
    "outputId": "13da97eb-ec09-4ecd-b73b-93f2403397e8"
   },
   "outputs": [
    {
     "data": {
      "text/plain": [
       "array(['NO APPARENT INJURY', 'SUSPECTED MINOR INJURY', 'POSSIBLE INJURY',\n",
       "       'SUSPECTED SERIOUS INJURY', 'FATAL INJURY'], dtype=object)"
      ]
     },
     "execution_count": 48,
     "metadata": {},
     "output_type": "execute_result"
    }
   ],
   "source": [
    "df_copy['Injury Severity'] = df_copy['Injury Severity'].str.upper()\n",
    "df_copy['Injury Severity'].unique()"
   ]
  },
  {
   "cell_type": "code",
   "execution_count": 49,
   "metadata": {
    "colab": {
     "base_uri": "https://localhost:8080/"
    },
    "executionInfo": {
     "elapsed": 27,
     "status": "ok",
     "timestamp": 1746903061749,
     "user": {
      "displayName": "Caoimhe G",
      "userId": "03319613593755301938"
     },
     "user_tz": -120
    },
    "id": "mtuJ2aHmyBHX",
    "outputId": "60631804-96ce-4628-c025-d4cf48de8ff6"
   },
   "outputs": [
    {
     "data": {
      "text/plain": [
       "array(['No Injury', 'Injury', 'Fatal Injury'], dtype=object)"
      ]
     },
     "execution_count": 49,
     "metadata": {},
     "output_type": "execute_result"
    }
   ],
   "source": [
    "injury_map = {\n",
    "    'NO APPARENT INJURY': 'No Injury',\n",
    "    'POSSIBLE INJURY': 'Injury',\n",
    "    'SUSPECTED MINOR INJURY': 'Injury',\n",
    "    'SUSPECTED SERIOUS INJURY': 'Injury',\n",
    "    'FATAL INJURY': 'Fatal Injury'\n",
    "}\n",
    "df_copy['Injury Severity'] = df_copy['Injury Severity'].map(injury_map)\n",
    "df_copy['Injury Severity'].unique()"
   ]
  },
  {
   "cell_type": "code",
   "execution_count": 50,
   "metadata": {
    "executionInfo": {
     "elapsed": 2751,
     "status": "ok",
     "timestamp": 1746903064527,
     "user": {
      "displayName": "Caoimhe G",
      "userId": "03319613593755301938"
     },
     "user_tz": -120
    },
    "id": "prJkhn982QR2"
   },
   "outputs": [],
   "source": [
    "csv_file = 'final_dataset_eirik.csv'\n",
    "df_copy.to_csv('/content/drive/MyDrive/ML Final/processed_data.csv', index=False)\n"
   ]
  },
  {
   "cell_type": "markdown",
   "metadata": {
    "id": "GJlP_EC20z2m"
   },
   "source": [
    "###Visualizations"
   ]
  },
  {
   "cell_type": "code",
   "execution_count": 51,
   "metadata": {
    "colab": {
     "base_uri": "https://localhost:8080/",
     "height": 1000
    },
    "executionInfo": {
     "elapsed": 6935,
     "status": "ok",
     "timestamp": 1746903071468,
     "user": {
      "displayName": "Caoimhe G",
      "userId": "03319613593755301938"
     },
     "user_tz": -120
    },
    "id": "ZczGw_Rr016m",
    "outputId": "464e92b3-37c8-4765-c8c7-b3f31eb40870"
   },
   "outputs": [
    {
     "data": {
      "image/png": "[encoded data removed]",
      "text/plain": [
       "<Figure size 1500x2000 with 9 Axes>"
      ]
     },
     "metadata": {},
     "output_type": "display_data"
    }
   ],
   "source": [
    "categorical_columns = ['ACRS Report Type', 'Weather', 'Surface Condition', 'Light', 'Vehicle Make', 'Vehicle Damage Extent', 'Driver Substance Abuse', 'Injury Severity', 'Driver Distracted By']\n",
    "\n",
    "# Set up the subplot grid\n",
    "num_cols = 2\n",
    "num_rows = (len(categorical_columns) + num_cols - 1) // num_cols\n",
    "\n",
    "fig, axes = plt.subplots(num_rows, num_cols, figsize=(15, num_rows * 4))\n",
    "axes = axes.flatten()\n",
    "\n",
    "# Plot each categorical column\n",
    "for i, col in enumerate(categorical_columns):\n",
    "    sns.countplot(y=col, data=df_copy, ax=axes[i])\n",
    "    axes[i].set_title(f'Distribution of {col}')\n",
    "    axes[i].set_xlabel('Count')\n",
    "    axes[i].set_ylabel(col)\n",
    "\n",
    "# Remove any empty subplots\n",
    "for j in range(i + 1, len(axes)):\n",
    "    fig.delaxes(axes[j])\n",
    "\n",
    "plt.tight_layout()\n",
    "plt.show()"
   ]
  },
  {
   "cell_type": "code",
   "execution_count": 52,
   "metadata": {
    "colab": {
     "base_uri": "https://localhost:8080/",
     "height": 807
    },
    "executionInfo": {
     "elapsed": 4549,
     "status": "ok",
     "timestamp": 1746903076024,
     "user": {
      "displayName": "Caoimhe G",
      "userId": "03319613593755301938"
     },
     "user_tz": -120
    },
    "id": "rDvzrJq91Daq",
    "outputId": "88a69bde-b27a-490d-9e9a-5bfce3b44455"
   },
   "outputs": [
    {
     "data": {
      "image/png": "[encoded data removed]",
      "text/plain": [
       "<Figure size 1500x800 with 4 Axes>"
      ]
     },
     "metadata": {},
     "output_type": "display_data"
    }
   ],
   "source": [
    "numerical_columns = ['Longitude', 'Latitude', 'Speed Limit', 'Vehicle Year']\n",
    "\n",
    "# Set up the subplot grid\n",
    "num_cols = 2\n",
    "num_rows = (len(numerical_columns) + num_cols - 1) // num_cols\n",
    "fig, axes = plt.subplots(num_rows, num_cols, figsize=(15, num_rows * 4))\n",
    "axes = axes.flatten()\n",
    "\n",
    "# Plot each numerical column\n",
    "for i, col in enumerate(numerical_columns):\n",
    "    sns.histplot(df_copy[col], bins=10, ax=axes[i], kde=True)\n",
    "    axes[i].set_title(f'Distribution of {col}')\n",
    "    axes[i].set_xlabel(col)\n",
    "    axes[i].set_ylabel('Frequency')\n",
    "\n",
    "# Remove any empty subplots\n",
    "for j in range(i + 1, len(axes)):\n",
    "    fig.delaxes(axes[j])\n",
    "\n",
    "plt.tight_layout()\n",
    "plt.show()"
   ]
  }
 ],
 "metadata": {
  "colab": {
   "provenance": []
  },
  "kernelspec": {
   "display_name": "Python 3",
   "name": "python3"
  },
  "language_info": {
   "codemirror_mode": {
    "name": "ipython",
    "version": 3
   },
   "file_extension": ".py",
   "mimetype": "text/x-python",
   "name": "python",
   "nbconvert_exporter": "python",
   "pygments_lexer": "ipython3",
   "version": "3.12.4"
  }
 },
 "nbformat": 4,
 "nbformat_minor": 0
}
